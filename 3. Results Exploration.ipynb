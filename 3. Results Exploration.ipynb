{
 "cells": [
  {
   "cell_type": "markdown",
   "metadata": {},
   "source": [
    "# Imports"
   ]
  },
  {
   "cell_type": "code",
   "execution_count": 1,
   "metadata": {
    "ExecuteTime": {
     "end_time": "2020-03-02T18:01:05.900980Z",
     "start_time": "2020-03-02T18:01:05.893322Z"
    }
   },
   "outputs": [
    {
     "data": {
      "text/html": [
       "<style>.container {width:100% !important;}</style>"
      ],
      "text/plain": [
       "<IPython.core.display.HTML object>"
      ]
     },
     "metadata": {},
     "output_type": "display_data"
    }
   ],
   "source": [
    "# %load_ext autoreload\n",
    "# %autoreload 2\n",
    "from IPython.core.display import display, HTML\n",
    "display(HTML(\"<style>.container {width:100% !important;}</style>\"))"
   ]
  },
  {
   "cell_type": "code",
   "execution_count": 2,
   "metadata": {
    "ExecuteTime": {
     "end_time": "2020-03-02T18:01:08.198767Z",
     "start_time": "2020-03-02T18:01:05.934284Z"
    }
   },
   "outputs": [],
   "source": [
    "import os\n",
    "import cv2\n",
    "import numpy as np\n",
    "from tqdm import tqdm\n",
    "from ipywidgets import interact\n",
    "import ipywidgets as widgets\n",
    "import matplotlib.pyplot as plt\n",
    "import albumentations as albu\n",
    "import albumentations.pytorch as albu_pt\n",
    "from sklearn.metrics import jaccard_score\n",
    "%matplotlib inline\n",
    "\n",
    "import apex\n",
    "import torch\n",
    "from torch.utils.data import DataLoader\n",
    "from torchvision.utils import make_grid\n",
    "import pytorch_tools as pt\n",
    "\n",
    "from src.dataset import OpenCitiesDataset, OpenCitiesTestDataset, InriaTilesDataset, get_dataloaders\n",
    "from src.augmentations import get_aug\n",
    "from src.callbacks import ThrJaccardScore\n",
    "from pytorch_tools.fit_wrapper.callbacks import SegmCutmix\n",
    "from pytorch_tools.tta_wrapper import TTA"
   ]
  },
  {
   "cell_type": "code",
   "execution_count": 3,
   "metadata": {
    "ExecuteTime": {
     "end_time": "2020-03-02T18:01:08.204598Z",
     "start_time": "2020-03-02T18:01:08.201116Z"
    }
   },
   "outputs": [],
   "source": [
    "import yaml\n",
    "from src.utils import MODEL_FROM_NAME\n",
    "from src.utils import TargetWrapper\n",
    "from pytorch_tools.fit_wrapper.callbacks import Callback\n",
    "from pytorch_tools.utils.misc import to_numpy\n",
    "from src.utils import criterion_from_list\n",
    "from src.utils import ToCudaLoader"
   ]
  },
  {
   "cell_type": "markdown",
   "metadata": {},
   "source": [
    "# Get dataloaders"
   ]
  },
  {
   "cell_type": "code",
   "execution_count": 4,
   "metadata": {
    "ExecuteTime": {
     "end_time": "2020-03-02T18:01:08.388013Z",
     "start_time": "2020-03-02T18:01:08.206338Z"
    }
   },
   "outputs": [
    {
     "name": "stdout",
     "output_type": "stream",
     "text": [
      "\n",
      "Using datasets: ['tier2']. Train size: 39129. Val size 7713.\n"
     ]
    }
   ],
   "source": [
    "BS = 32\n",
    "train_dtld_gpu , val_dtld_gpu = get_dataloaders(\n",
    "    [\n",
    "#         \"tier1\", \n",
    "        \"tier2\"\n",
    "    ],\n",
    "    batch_size=BS\n",
    ")"
   ]
  },
  {
   "cell_type": "code",
   "execution_count": 5,
   "metadata": {
    "ExecuteTime": {
     "end_time": "2020-03-02T18:01:08.411167Z",
     "start_time": "2020-03-02T18:01:08.389831Z"
    }
   },
   "outputs": [],
   "source": [
    "test_loader = DataLoader(OpenCitiesTestDataset(get_aug(\"test\", size=384)), batch_size=BS, shuffle=True)"
   ]
  },
  {
   "cell_type": "markdown",
   "metadata": {},
   "source": [
    "# Results exploration"
   ]
  },
  {
   "cell_type": "raw",
   "metadata": {
    "ExecuteTime": {
     "end_time": "2020-02-27T17:08:31.333511Z",
     "start_time": "2020-02-27T17:08:31.324891Z"
    }
   },
   "source": [
    "count = 0\n",
    "\n",
    "def plusone(w):\n",
    "    global count\n",
    "    print(count)\n",
    "    count +=1\n",
    "\n",
    "w = widgets.Button(description='Click me')\n",
    "w.on_click(plusone)\n",
    "display(w)"
   ]
  },
  {
   "cell_type": "code",
   "execution_count": 6,
   "metadata": {
    "ExecuteTime": {
     "end_time": "2020-03-02T18:01:20.748596Z",
     "start_time": "2020-03-02T18:01:14.493331Z"
    }
   },
   "outputs": [],
   "source": [
    "PREV_WEIGHTS = None\n",
    "PREDS = None\n",
    "PREDS_TTA = None\n",
    "LOADER = val_dtld_gpu\n",
    "# LOADER = val_dtld_inria_gpu\n",
    "IMGS, MASKS = next(iter(LOADER))\n",
    "\n",
    "_, IMGS , _ = next(iter(test_loader))\n",
    "MASKS = torch.zeros_like(IMGS)\n",
    "IMGS, MASKS = IMGS.cuda(), MASKS.cuda()\n",
    "\n",
    "MEAN=(0.485, 0.456, 0.406)\n",
    "STD=(0.229, 0.224, 0.225)\n",
    "# IMGS, MASKS = IMGS.cpu(), MASKS.cpu()"
   ]
  },
  {
   "cell_type": "code",
   "execution_count": null,
   "metadata": {},
   "outputs": [],
   "source": []
  },
  {
   "cell_type": "code",
   "execution_count": 7,
   "metadata": {
    "ExecuteTime": {
     "end_time": "2020-03-02T18:01:20.809583Z",
     "start_time": "2020-03-02T18:01:20.751568Z"
    }
   },
   "outputs": [
    {
     "data": {
      "application/vnd.jupyter.widget-view+json": {
       "model_id": "faa87c5945034b5e9c76554110049070",
       "version_major": 2,
       "version_minor": 0
      },
      "text/plain": [
       "interactive(children=(Dropdown(description='weights', options=('2.deeplab_nov_20200212_171538', '2.deeplab_nov…"
      ]
     },
     "metadata": {},
     "output_type": "display_data"
    }
   ],
   "source": [
    "@interact(\n",
    "    weights=sorted(os.listdir(\"logs/\")),\n",
    "    N=widgets.IntSlider(min=0, max=BS, continuous_update=True),\n",
    "    thr=widgets.FloatSlider(0.5, min=0.2, max=0.8, step=0.1, continuous_update=False),\n",
    ")\n",
    "def foo(weights=None, N=0, thr=0.5, adaptive_thr=False, use_tta=False):\n",
    "    global PREV_WEIGHTS\n",
    "    global PREDS\n",
    "    global PREDS_TTA\n",
    "#     global PREV_IMGS_MASKS_PREDS\n",
    "    \n",
    "    if weights is None:\n",
    "        print(\"select weights\")\n",
    "        return \n",
    "    \n",
    "    if weights != PREV_WEIGHTS:\n",
    "        PREV_WEIGHTS = weights\n",
    "        log_path = \"logs/\" + weights + \"/\"\n",
    "        config = yaml.load(open(log_path + \"config.yaml\"))\n",
    "        model = MODEL_FROM_NAME[config[\"segm_arch\"]](config[\"arch\"], **config.get(\"model_params\", {})).cuda()\n",
    "        model.load_state_dict(torch.load(log_path + 'model.chpn')[\"state_dict\"], strict=False)\n",
    "        model.eval()\n",
    "#         tta_model = TTA(model, segm=True, h_flip=True, rotation=[90], merge=\"gmean\", activation=\"sigmoid\")\n",
    "        with torch.no_grad():\n",
    "            PREDS = model(IMGS).cpu().detach().sigmoid()\n",
    "#             PREDS_TTA = tta_model(IMGS).cpu().detach()#.sigmoid()\n",
    "        del model\n",
    "#         del tta_model\n",
    "\n",
    "    img = to_numpy(IMGS[N]).swapaxes(0, 2)\n",
    "    img = np.clip((img * STD + MEAN), 0, 1)\n",
    "    mask = to_numpy(MASKS[N]).swapaxes(0, 2)\n",
    "    mask[:, :, :2] = (mask[:, :, :2] + 1) * 0.5\n",
    "    P = PREDS_TTA if use_tta else PREDS\n",
    "    pred = np.repeat(to_numpy(P[N]), 3, 0).swapaxes(0, 2)\n",
    "    thr_mask = (pred > thr).astype(np.uint8)\n",
    "    if adaptive_thr:\n",
    "        thr_mask = cv2.threshold(\n",
    "            (pred[:, :, 0] * 255).astype(np.uint8),0,255,cv2.THRESH_BINARY+cv2.THRESH_OTSU\n",
    "        )[1] / 255\n",
    "#         thr_mask = cv2.adaptiveThreshold(\n",
    "#             (pred[:, :, 0] * 255).astype(np.uint8), 255, cv2.ADAPTIVE_THRESH_GAUSSIAN_C, cv2.THRESH_BINARY, 49, 7\n",
    "#         ) / 255.\n",
    "        thr_mask = np.stack([thr_mask,] * 3, axis=2)\n",
    "#         thr_mask[pred < 1e-3] = 0\n",
    "    score = jaccard_score(mask[:,:, 2], thr_mask[:,:,2], average=\"micro\")\n",
    "    if mask[:,:, 2].sum() == 0 and thr_mask[:,:,2].sum() == 0:\n",
    "        score = 1\n",
    "    stacked = np.hstack([img, mask, pred, thr_mask])\n",
    "    plt.figure(figsize=(32,8))\n",
    "    plt.imshow(stacked, cmap=\"gray\")\n",
    "    plt.title(f\"Jaccard={score:.3f}\")\n",
    "    plt.axis(\"off\")"
   ]
  },
  {
   "cell_type": "markdown",
   "metadata": {},
   "source": [
    "# Test Results Exploration"
   ]
  },
  {
   "cell_type": "code",
   "execution_count": null,
   "metadata": {},
   "outputs": [],
   "source": []
  },
  {
   "cell_type": "code",
   "execution_count": null,
   "metadata": {},
   "outputs": [],
   "source": []
  }
 ],
 "metadata": {
  "kernelspec": {
   "display_name": "Python 3.6.9 64-bit",
   "language": "python",
   "name": "python36964bit9890b48dadda4b3ab35703e845f6f232"
  },
  "language_info": {
   "codemirror_mode": {
    "name": "ipython",
    "version": 3
   },
   "file_extension": ".py",
   "mimetype": "text/x-python",
   "name": "python",
   "nbconvert_exporter": "python",
   "pygments_lexer": "ipython3",
   "version": "3.6.9"
  }
 },
 "nbformat": 4,
 "nbformat_minor": 2
}
