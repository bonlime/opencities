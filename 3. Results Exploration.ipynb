{
 "cells": [
  {
   "cell_type": "markdown",
   "metadata": {},
   "source": [
    "# Imports"
   ]
  },
  {
   "cell_type": "code",
   "execution_count": 9,
   "metadata": {
    "ExecuteTime": {
     "end_time": "2020-03-05T10:10:44.335230Z",
     "start_time": "2020-03-05T10:10:44.331662Z"
    }
   },
   "outputs": [
    {
     "data": {
      "text/html": [
       "<style>.container {width:100% !important;}</style>"
      ],
      "text/plain": [
       "<IPython.core.display.HTML object>"
      ]
     },
     "metadata": {},
     "output_type": "display_data"
    }
   ],
   "source": [
    "# %load_ext autoreload\n",
    "# %autoreload 2\n",
    "from IPython.core.display import display, HTML\n",
    "display(HTML(\"<style>.container {width:100% !important;}</style>\"))"
   ]
  },
  {
   "cell_type": "code",
   "execution_count": 10,
   "metadata": {
    "ExecuteTime": {
     "end_time": "2020-03-05T10:10:46.339471Z",
     "start_time": "2020-03-05T10:10:46.332546Z"
    }
   },
   "outputs": [],
   "source": [
    "import os\n",
    "import cv2\n",
    "import numpy as np\n",
    "from tqdm import tqdm\n",
    "from ipywidgets import interact\n",
    "import ipywidgets as widgets\n",
    "import matplotlib.pyplot as plt\n",
    "import albumentations as albu\n",
    "import albumentations.pytorch as albu_pt\n",
    "from sklearn.metrics import jaccard_score\n",
    "%matplotlib inline\n",
    "\n",
    "import apex\n",
    "import torch\n",
    "from torch.utils.data import DataLoader\n",
    "from torchvision.utils import make_grid\n",
    "import pytorch_tools as pt\n",
    "\n",
    "from src.dataset import OpenCitiesDataset, OpenCitiesTestDataset, InriaTilesDataset, get_dataloaders\n",
    "from src.augmentations import get_aug\n",
    "from src.callbacks import ThrJaccardScore\n",
    "from pytorch_tools.fit_wrapper.callbacks import SegmCutmix\n",
    "from pytorch_tools.tta_wrapper import TTA"
   ]
  },
  {
   "cell_type": "code",
   "execution_count": 11,
   "metadata": {
    "ExecuteTime": {
     "end_time": "2020-03-05T10:10:47.094375Z",
     "start_time": "2020-03-05T10:10:47.091247Z"
    }
   },
   "outputs": [],
   "source": [
    "import yaml\n",
    "from src.utils import MODEL_FROM_NAME\n",
    "from src.utils import TargetWrapper\n",
    "from pytorch_tools.fit_wrapper.callbacks import Callback\n",
    "from pytorch_tools.utils.misc import to_numpy\n",
    "from src.utils import criterion_from_list\n",
    "from src.utils import ToCudaLoader"
   ]
  },
  {
   "cell_type": "markdown",
   "metadata": {},
   "source": [
    "# Get dataloaders"
   ]
  },
  {
   "cell_type": "code",
   "execution_count": 4,
   "metadata": {
    "ExecuteTime": {
     "end_time": "2020-03-04T18:15:41.300935Z",
     "start_time": "2020-03-04T18:15:41.212939Z"
    }
   },
   "outputs": [
    {
     "name": "stdout",
     "output_type": "stream",
     "text": [
      "\n",
      "Using datasets: ['tier1']. Train size: 25281. Val size 4381.\n"
     ]
    }
   ],
   "source": [
    "BS = 32\n",
    "train_dtld_gpu , val_dtld_gpu = get_dataloaders(\n",
    "    [\n",
    "        \"tier1\", \n",
    "#         \"tier2\"\n",
    "    ],\n",
    "    batch_size=BS\n",
    ")"
   ]
  },
  {
   "cell_type": "markdown",
   "metadata": {},
   "source": [
    "# Results exploration"
   ]
  },
  {
   "cell_type": "raw",
   "metadata": {
    "ExecuteTime": {
     "end_time": "2020-02-27T17:08:31.333511Z",
     "start_time": "2020-02-27T17:08:31.324891Z"
    }
   },
   "source": [
    "count = 0\n",
    "\n",
    "def plusone(w):\n",
    "    global count\n",
    "    print(count)\n",
    "    count +=1\n",
    "\n",
    "w = widgets.Button(description='Click me')\n",
    "w.on_click(plusone)\n",
    "display(w)"
   ]
  },
  {
   "cell_type": "code",
   "execution_count": 137,
   "metadata": {
    "ExecuteTime": {
     "end_time": "2020-03-04T20:11:53.957890Z",
     "start_time": "2020-03-04T20:11:53.952860Z"
    }
   },
   "outputs": [],
   "source": [
    "def auto_canny(image, sigma=0.33, fixed_thr=False):\n",
    "    if image.max() <= 1:\n",
    "        image = (image * 255).astype(np.uint8)\n",
    "#     image = cv2.blur(image, (11, 11))\n",
    "    image = cv2.cvtColor(image, cv2.COLOR_RGB2GRAY)\n",
    "    # compute the median of the single channel pixel intensities\n",
    "    v = np.median(image)\n",
    "    # apply automatic Canny edge detection using the computed median\n",
    "    lower = int(max(0, (1.0 - sigma) * v))\n",
    "    upper = int(min(255, (1.0 + sigma) * v))\n",
    "    if fixed_thr:\n",
    "        lower, upper = 160, 200\n",
    "    edged = cv2.Canny(image, lower, upper)\n",
    "    # return the edged image\n",
    "    return np.stack([edged] * 3, axis=2) / 255\n"
   ]
  },
  {
   "cell_type": "code",
   "execution_count": 37,
   "metadata": {
    "ExecuteTime": {
     "end_time": "2020-03-04T19:07:26.092611Z",
     "start_time": "2020-03-04T19:07:23.387183Z"
    }
   },
   "outputs": [],
   "source": [
    "PREV_WEIGHTS = None\n",
    "PREDS = None\n",
    "PREDS_TTA = None\n",
    "\n",
    "MEAN=(0.485, 0.456, 0.406)\n",
    "STD=(0.229, 0.224, 0.225)\n",
    "\n",
    "LOADER = iter(val_dtld_gpu)\n",
    "# LOADER = val_dtld_inria_gpu\n",
    "IMGS, MASKS = next(LOADER)\n",
    "\n",
    "SZ = 512\n",
    "test_loader = DataLoader(OpenCitiesTestDataset(get_aug(\"test\", size=SZ)), batch_size=BS, shuffle=True)\n",
    "TEST_LOADER = iter(test_loader)\n",
    "_, IMGS , _ = next(TEST_LOADER)\n",
    "MASKS = torch.zeros_like(IMGS)\n",
    "IMGS, MASKS = IMGS.cuda(), MASKS.cuda()"
   ]
  },
  {
   "cell_type": "code",
   "execution_count": 47,
   "metadata": {
    "ExecuteTime": {
     "end_time": "2020-03-04T19:28:43.608270Z",
     "start_time": "2020-03-04T19:28:43.605601Z"
    }
   },
   "outputs": [],
   "source": [
    "SINGLE_IMG, SINGLE_PRED = None, None"
   ]
  },
  {
   "cell_type": "code",
   "execution_count": 150,
   "metadata": {
    "ExecuteTime": {
     "end_time": "2020-03-04T20:25:28.949394Z",
     "start_time": "2020-03-04T20:25:28.885205Z"
    }
   },
   "outputs": [
    {
     "data": {
      "application/vnd.jupyter.widget-view+json": {
       "model_id": "49d5b42bd9ac46dbb972ea86afe2d1b5",
       "version_major": 2,
       "version_minor": 0
      },
      "text/plain": [
       "interactive(children=(Dropdown(description='weights', options=('10.bifpn_2l_2dtst_reduced_focal_20200303_20232…"
      ]
     },
     "metadata": {},
     "output_type": "display_data"
    }
   ],
   "source": [
    "@interact(\n",
    "    weights=sorted(os.listdir(\"logs/\")),\n",
    "    N=widgets.IntSlider(min=0, max=BS-1, continuous_update=True),\n",
    "    thr=widgets.FloatSlider(0.5, min=0.2, max=0.8, step=0.1, continuous_update=False),\n",
    ")\n",
    "def foo(weights=None, N=0, thr=0.5, adaptive_thr=False, use_tta=False, equilize=False, detect_edges=False, watershed=False, overlay_pred=False):\n",
    "    global PREV_WEIGHTS\n",
    "    global PREDS\n",
    "    global PREDS_TTA\n",
    "    global SINGLE_IMG\n",
    "    global SINGLE_PRED\n",
    "#     global PREV_IMGS_MASKS_PREDS\n",
    "    \n",
    "    if weights is None:\n",
    "        print(\"select weights\")\n",
    "        return \n",
    "    \n",
    "    if weights != PREV_WEIGHTS:\n",
    "        PREV_WEIGHTS = weights\n",
    "        log_path = \"logs/\" + weights + \"/\"\n",
    "        config = yaml.load(open(log_path + \"config.yaml\"))\n",
    "        model = MODEL_FROM_NAME[config[\"segm_arch\"]](config[\"arch\"], **config.get(\"model_params\", {})).cuda()\n",
    "        model.load_state_dict(torch.load(log_path + 'model.chpn')[\"state_dict\"], strict=False)\n",
    "        model.eval()\n",
    "        tta_model = pt.tta_wrapper.TTA(model, segm=True, h_flip=True, rotation=[90], merge=\"mean\", activation=\"sigmoid\")\n",
    "        with torch.no_grad():\n",
    "            PREDS = model(IMGS).cpu().detach().sigmoid()\n",
    "            PREDS_TTA = tta_model(IMGS).cpu().detach()#.sigmoid()\n",
    "        del model\n",
    "        del tta_model\n",
    "\n",
    "    img = to_numpy(IMGS[N]).swapaxes(0, 2)\n",
    "    img = np.clip((img * STD + MEAN), 0, 1)\n",
    "    if equilize:\n",
    "        img = albu.Equalize(always_apply=True, by_channels=False)(image=(img * 255).astype(np.uint8))[\"image\"] / 255\n",
    "    \n",
    "    mask = to_numpy(MASKS[N]).swapaxes(0, 2)\n",
    "    mask[:, :, :2] = (mask[:, :, :2] + 1) * 0.5\n",
    "    P = PREDS_TTA if use_tta else PREDS\n",
    "    pred = np.repeat(to_numpy(P[N]), 3, 0).swapaxes(0, 2)\n",
    "    if detect_edges:\n",
    "        img = auto_canny(img, fixed_thr=True, sigma=0.5)\n",
    "        pred = auto_canny(pred, fixed_thr=True)\n",
    "    thr_mask = (pred > thr).astype(np.uint8)\n",
    "    if adaptive_thr:\n",
    "        thr_mask = cv2.threshold(\n",
    "            (pred[:, :, 0] * 255).astype(np.uint8),0,255,cv2.THRESH_BINARY+cv2.THRESH_OTSU\n",
    "        )[1] / 255\n",
    "#         thr_mask = cv2.adaptiveThreshold(\n",
    "#             (pred[:, :, 0] * 255).astype(np.uint8), 255, cv2.ADAPTIVE_THRESH_GAUSSIAN_C, cv2.THRESH_BINARY, 49, 7\n",
    "#         ) / 255.\n",
    "        thr_mask = np.stack([thr_mask,] * 3, axis=2)\n",
    "#         thr_mask[pred < 1e-3] = 0\n",
    "    score = jaccard_score(mask[:,:, 2], thr_mask[:,:,2], average=\"micro\")\n",
    "    if mask[:,:, 2].sum() == 0 and thr_mask[:,:,2].sum() == 0:\n",
    "        score = 1\n",
    "    if watershed: \n",
    "        img, pred = watershed(img, pred)\n",
    "    if overlay_pred:\n",
    "        img[thr_mask == 1] = 1\n",
    "    stacked = np.hstack([img, mask, pred, thr_mask])\n",
    "    plt.figure(figsize=(32,8))\n",
    "    plt.imshow(stacked, cmap=\"gray\")\n",
    "    plt.title(f\"Jaccard={score:.3f}\")\n",
    "    plt.axis(\"off\")\n",
    "    SINGLE_IMG = img\n",
    "    SINGLE_PRED = pred"
   ]
  },
  {
   "cell_type": "code",
   "execution_count": 146,
   "metadata": {
    "ExecuteTime": {
     "end_time": "2020-03-04T20:14:36.917899Z",
     "start_time": "2020-03-04T20:14:35.877146Z"
    }
   },
   "outputs": [
    {
     "data": {
      "text/plain": [
       "<matplotlib.image.AxesImage at 0x7f0b9c584eb8>"
      ]
     },
     "execution_count": 146,
     "metadata": {},
     "output_type": "execute_result"
    },
    {
     "data": {
      "image/png": "[encoded data removed]",
      "text/plain": [
       "<Figure size 432x288 with 1 Axes>"
      ]
     },
     "metadata": {
      "needs_background": "light"
     },
     "output_type": "display_data"
    }
   ],
   "source": [
    "\n",
    "def watershed(image, pred):\n",
    "    image = (image * 255).astype(np.uint8)\n",
    "#     image = cv2.GaussianBlur(image, (11, 11), 3)\n",
    "    smooth_image = cv2.pyrMeanShiftFiltering(image, 21, 51)\n",
    "    kernel = np.ones((5,5),np.uint8)\n",
    "    sure_bg = (pred[:, :, 0] < 0.15).astype(np.uint8)\n",
    "    sure_fg = cv2.morphologyEx((pred[:,:,0] > 0.5).astype(np.uint8), cv2.MORPH_ERODE, kernel)\n",
    "    unknown = np.logical_not(np.logical_xor(sure_bg, sure_fg))\n",
    "    ret, markers = cv2.connectedComponents(sure_fg)\n",
    "    markers = markers+1\n",
    "    markers[unknown] = 0\n",
    "#     markers = cv2.watershed(image.astype(np.uint8), markers)\n",
    "    markers = cv2.watershed((pred * 255).astype(np.uint8), markers)\n",
    "#     image[markers == -1] = [255,0,0]\n",
    "    return markers\n",
    "\n",
    "plt.imshow(watershed(SINGLE_IMG, SINGLE_PRED))"
   ]
  },
  {
   "cell_type": "markdown",
   "metadata": {},
   "source": [
    "# Test Results Exploration"
   ]
  },
  {
   "cell_type": "code",
   "execution_count": null,
   "metadata": {},
   "outputs": [],
   "source": []
  },
  {
   "cell_type": "code",
   "execution_count": null,
   "metadata": {},
   "outputs": [],
   "source": []
  }
 ],
 "metadata": {
  "kernelspec": {
   "display_name": "Python 3.6.9 64-bit",
   "language": "python",
   "name": "python36964bit9890b48dadda4b3ab35703e845f6f232"
  },
  "language_info": {
   "codemirror_mode": {
    "name": "ipython",
    "version": 3
   },
   "file_extension": ".py",
   "mimetype": "text/x-python",
   "name": "python",
   "nbconvert_exporter": "python",
   "pygments_lexer": "ipython3",
   "version": "3.6.9"
  }
 },
 "nbformat": 4,
 "nbformat_minor": 2
}
