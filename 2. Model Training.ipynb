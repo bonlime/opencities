{
 "cells": [
  {
   "cell_type": "code",
   "execution_count": null,
   "metadata": {
    "ExecuteTime": {
     "end_time": "2020-02-04T13:53:55.895977Z",
     "start_time": "2020-02-04T13:53:55.880847Z"
    }
   },
   "outputs": [],
   "source": [
    "%load_ext autoreload\n",
    "%autoreload 2\n",
    "from IPython.core.display import display, HTML\n",
    "display(HTML(\"<style>.container {width:100% !important;}</style>\"))"
   ]
  },
  {
   "cell_type": "code",
   "execution_count": null,
   "metadata": {
    "ExecuteTime": {
     "end_time": "2020-02-04T13:53:57.371782Z",
     "start_time": "2020-02-04T13:53:56.451741Z"
    }
   },
   "outputs": [],
   "source": [
    "import os\n",
    "import numpy as np\n",
    "import matplotlib.pyplot as plt\n",
    "import albumentations as albu\n",
    "import albumentations.pytorch as albu_pt\n",
    "%matplotlib inline\n",
    "\n",
    "import apex\n",
    "import torch\n",
    "from torch.utils.data import DataLoader\n",
    "from torchvision.utils import make_grid\n",
    "import pytorch_tools as pt\n",
    "\n",
    "from src.dataset import OpenCitiesDataset"
   ]
  },
  {
   "cell_type": "code",
   "execution_count": null,
   "metadata": {
    "ExecuteTime": {
     "end_time": "2020-02-04T13:53:57.479620Z",
     "start_time": "2020-02-04T13:53:57.373609Z"
    }
   },
   "outputs": [],
   "source": [
    "SZ = 384\n",
    "BS = 16\n",
    "BUILDINGS_ONLY = True\n",
    "# want also to transform mask\n",
    "class ToTensor(albu_pt.ToTensorV2):\n",
    "    def apply_to_mask(self, mask, **params):\n",
    "        return torch.from_numpy(mask.transpose(2, 0, 1))\n",
    "    \n",
    "aug = albu.Compose([\n",
    "    albu.Flip(),\n",
    "    albu.ShiftScaleRotate(scale_limit=0.2), \n",
    "    albu.RandomCrop(SZ,SZ),\n",
    "    albu.RandomBrightnessContrast(), \n",
    "    albu.HueSaturationValue(),\n",
    "    albu.RandomRotate90(),\n",
    "    albu.Normalize(),\n",
    "    ToTensor(),\n",
    "])\n",
    "simple_aug = albu.Compose([\n",
    "    albu.CenterCrop(SZ,SZ),\n",
    "    albu.Normalize(),\n",
    "    ToTensor(), \n",
    "])\n",
    "\n",
    "val_dtst = OpenCitiesDataset(split=\"val\", transform=simple_aug, buildings_only=BUILDINGS_ONLY)\n",
    "val_dtld = DataLoader(val_dtst, batch_size=BS, shuffle=False, num_workers=2, drop_last=True)\n",
    "val_dtld_i = iter(val_dtld)\n",
    "\n",
    "train_dtst = OpenCitiesDataset(split=\"train\", transform=aug, buildings_only=BUILDINGS_ONLY)\n",
    "train_dtld = DataLoader(train_dtst, batch_size=BS, shuffle=True, num_workers=8, drop_last=True)\n",
    "train_dtld_i = iter(train_dtld)"
   ]
  },
  {
   "cell_type": "code",
   "execution_count": null,
   "metadata": {
    "ExecuteTime": {
     "end_time": "2020-02-04T13:53:58.277068Z",
     "start_time": "2020-02-04T13:53:58.252131Z"
    }
   },
   "outputs": [],
   "source": [
    "len(train_dtst), len(val_dtst)"
   ]
  },
  {
   "cell_type": "code",
   "execution_count": null,
   "metadata": {
    "ExecuteTime": {
     "end_time": "2020-02-04T13:53:59.093056Z",
     "start_time": "2020-02-04T13:53:59.054429Z"
    }
   },
   "outputs": [],
   "source": [
    "img, mask = val_dtst[1]\n",
    "img.shape, mask.shape"
   ]
  },
  {
   "cell_type": "code",
   "execution_count": null,
   "metadata": {
    "ExecuteTime": {
     "end_time": "2020-02-04T13:54:00.409442Z",
     "start_time": "2020-02-04T13:54:00.394110Z"
    }
   },
   "outputs": [],
   "source": [
    "# plt.imshow(mask[2])"
   ]
  },
  {
   "cell_type": "code",
   "execution_count": null,
   "metadata": {
    "ExecuteTime": {
     "end_time": "2020-02-04T14:00:56.059827Z",
     "start_time": "2020-02-04T14:00:54.705274Z"
    }
   },
   "outputs": [],
   "source": [
    "# batch = next(val_dtld_i)\n",
    "imgs, masks = next(val_dtld_i)\n",
    "preds = model(imgs.cuda()).cpu().detach()\n",
    "imgs = preds\n",
    "imgs_grid = make_grid(imgs, nrow=4).transpose(0,2)#.transpose(0,1)\n",
    "masks_grid = make_grid(masks, nrow=4).transpose(0,2)#.transpose(0,1)\n",
    "fig, axes = plt.subplots(ncols=2, figsize=(20, 10))\n",
    "axes[0].imshow(imgs_grid)\n",
    "axes[1].imshow(masks_grid);"
   ]
  },
  {
   "cell_type": "code",
   "execution_count": null,
   "metadata": {
    "ExecuteTime": {
     "end_time": "2020-02-04T13:54:12.844847Z",
     "start_time": "2020-02-04T13:54:08.508585Z"
    }
   },
   "outputs": [],
   "source": [
    "# model = pt.segmentation_models.DeepLabV3(\n",
    "#     'se_resnet50', output_stride=16, num_classes=1 if BUILDINGS_ONLY else 3\n",
    "# ).cuda()\n",
    "model = pt.segmentation_models.Linknet(\n",
    "    'se_resnet50', num_classes=1 if BUILDINGS_ONLY else 3\n",
    ").cuda()\n",
    "optim = torch.optim.AdamW(model.parameters(), lr=3e-4)\n",
    "model, optim = apex.amp.initialize(model, optim, verbosity=0, loss_scale=2048)\n",
    "# freeze encoder\n",
    "for p in model.encoder.parameters():\n",
    "    p.requires_grad = False\n",
    "loss = pt.losses.JaccardLoss(mode=\"binary\" if BUILDINGS_ONLY else \"multilabel\").cuda()\n",
    "loss = pt.losses.CrossEntropyLoss(mode=\"binary\" if BUILDINGS_ONLY else \"multilabel\").cuda()\n",
    "pt.utils.misc.count_parameters(model)"
   ]
  },
  {
   "cell_type": "code",
   "execution_count": null,
   "metadata": {
    "ExecuteTime": {
     "end_time": "2020-02-04T13:54:12.865119Z",
     "start_time": "2020-02-04T13:54:12.846705Z"
    }
   },
   "outputs": [],
   "source": [
    "runner = pt.fit_wrapper.Runner(\n",
    "    model, \n",
    "    optim, \n",
    "    criterion=loss,\n",
    "    callbacks=[\n",
    "#         pt.fit_wrapper.callbacks.Timer(),\n",
    "        pt.fit_wrapper.callbacks.ConsoleLogger(), \n",
    "#         pt.fit_wrapper.callbacks.ReduceLROnPlateau(10),\n",
    "#         pt.fit_wrapper.callbacks.FileLogger('/tmp/')\n",
    "    ],\n",
    "    metrics=pt.metrics.JaccardScore(mode=\"binary\" if BUILDINGS_ONLY else \"multilabel\"),\n",
    ")"
   ]
  },
  {
   "cell_type": "code",
   "execution_count": null,
   "metadata": {
    "ExecuteTime": {
     "end_time": "2020-02-04T13:54:12.882738Z",
     "start_time": "2020-02-04T13:54:12.866705Z"
    }
   },
   "outputs": [],
   "source": [
    "class ToCudaLoader:\n",
    "    def __init__(self, loader):\n",
    "        self.loader = loader\n",
    "        \n",
    "    def __iter__(self):\n",
    "        return ((img.cuda(), target.cuda()) for img, target in self.loader)\n",
    "    \n",
    "    def __len__(self):\n",
    "        return len(self.loader)\n",
    "    \n",
    "val_dtld_gpu = ToCudaLoader(val_dtld)\n",
    "train_dtld_gpu = ToCudaLoader(train_dtld)"
   ]
  },
  {
   "cell_type": "code",
   "execution_count": null,
   "metadata": {
    "ExecuteTime": {
     "end_time": "2020-02-04T13:54:13.494700Z",
     "start_time": "2020-02-04T13:54:12.883818Z"
    }
   },
   "outputs": [],
   "source": [
    "imgs, masks = next(iter(val_dtld_gpu))\n",
    "imgs.dtype, masks.dtype, imgs.shape, masks.shape"
   ]
  },
  {
   "cell_type": "code",
   "execution_count": null,
   "metadata": {
    "ExecuteTime": {
     "end_time": "2020-02-04T13:56:47.955803Z",
     "start_time": "2020-02-04T13:54:55.171641Z"
    }
   },
   "outputs": [],
   "source": [
    "runner.fit(val_dtld_gpu, val_loader=val_dtld_gpu, epochs=30)"
   ]
  },
  {
   "cell_type": "code",
   "execution_count": null,
   "metadata": {
    "ExecuteTime": {
     "end_time": "2020-02-04T13:56:47.979060Z",
     "start_time": "2020-02-04T13:56:47.958077Z"
    }
   },
   "outputs": [],
   "source": [
    "for p in model.parameters():\n",
    "    p.requires_grad = True"
   ]
  },
  {
   "cell_type": "code",
   "execution_count": null,
   "metadata": {
    "ExecuteTime": {
     "end_time": "2020-02-04T13:59:13.130567Z",
     "start_time": "2020-02-04T13:56:47.980626Z"
    }
   },
   "outputs": [],
   "source": [
    "runner.fit(val_dtld_gpu, val_loader=val_dtld_gpu, epochs=30)"
   ]
  },
  {
   "cell_type": "code",
   "execution_count": null,
   "metadata": {},
   "outputs": [],
   "source": []
  },
  {
   "cell_type": "code",
   "execution_count": null,
   "metadata": {},
   "outputs": [],
   "source": []
  }
 ],
 "metadata": {
  "kernelspec": {
   "display_name": "Python 3",
   "language": "python",
   "name": "python3"
  },
  "language_info": {
   "codemirror_mode": {
    "name": "ipython",
    "version": 3
   },
   "file_extension": ".py",
   "mimetype": "text/x-python",
   "name": "python",
   "nbconvert_exporter": "python",
   "pygments_lexer": "ipython3",
   "version": "3.6.9"
  }
 },
 "nbformat": 4,
 "nbformat_minor": 2
}
