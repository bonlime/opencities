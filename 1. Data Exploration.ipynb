{
 "cells": [
  {
   "cell_type": "raw",
   "metadata": {},
   "source": [
    "!apt-get install python3-rtree\n",
    "!pip install pystac\n",
    "!pip install geopandas\n",
    "!pip install rasterio"
   ]
  },
  {
   "cell_type": "raw",
   "metadata": {},
   "source": [
    "# https://gist.github.com/daveluo/57ada6ba61ff7c947aad8d6aaeeeb9e4\n",
    "Online STAC browser\n",
    "# https://ocai-browse-demo.netlify.com/\n",
    "\n",
    "https://colab.research.google.com/drive/1Fv-80b1m-O-0p1g59NDzD82XdgurWlwa#scrollTo=tDBu_rjDXIro\n",
    "\n",
    "https://medium.com/@anthropoco/how-to-segment-buildings-on-drone-imagery-with-fast-ai-cloud-native-geodata-tools-ae249612c321"
   ]
  },
  {
   "cell_type": "code",
   "execution_count": null,
   "metadata": {
    "ExecuteTime": {
     "end_time": "2020-02-03T14:34:16.790403Z",
     "start_time": "2020-02-03T14:34:15.360175Z"
    }
   },
   "outputs": [],
   "source": [
    "# Imports\n",
    "from matplotlib import pyplot as plt\n",
    "import numpy as np\n",
    "import pandas as pd\n",
    "from pprint import pprint\n",
    "# import solaris as sol\n",
    "from pathlib import Path\n",
    "import rasterio\n",
    "from rasterio.windows import Window\n",
    "import geopandas as gpd\n",
    "from pystac import (Catalog, CatalogType, Item, Asset, LabelItem, Collection)\n",
    "from rasterio.transform import from_bounds\n",
    "from shapely.geometry import Polygon\n",
    "from shapely.ops import cascaded_union\n",
    "from rio_tiler import main as rt_main\n",
    "import skimage\n",
    "from tqdm import tqdm\n",
    "import os\n",
    "os.environ[\"CURL_CA_BUNDLE\"] = \"/etc/ssl/certs/ca-certificates.crt\"\n",
    "\n",
    "# We have to add this wrkaround for stackio:\n",
    "# (https://pystac.readthedocs.io/en/latest/concepts.html#using-stac-io)\n",
    "from urllib.parse import urlparse\n",
    "import requests\n",
    "from pystac import STAC_IO\n",
    "def my_read_method(uri):\n",
    "    parsed = urlparse(uri)\n",
    "    if parsed.scheme.startswith('http'):\n",
    "        return requests.get(uri).text\n",
    "    else:\n",
    "        return STAC_IO.default_read_text_method(uri)\n",
    "STAC_IO.read_text_method = my_read_method"
   ]
  },
  {
   "cell_type": "code",
   "execution_count": null,
   "metadata": {
    "ExecuteTime": {
     "end_time": "2020-02-03T14:34:23.680636Z",
     "start_time": "2020-02-03T14:34:23.676686Z"
    }
   },
   "outputs": [],
   "source": [
    "# Folder Setup\n",
    "data_dir = Path('data')\n",
    "data_dir.mkdir(exist_ok=True)\n",
    "\n",
    "img_path = data_dir/'images-256'\n",
    "mask_path = data_dir/'masks-256'\n",
    "img_path.mkdir(exist_ok=True)\n",
    "mask_path.mkdir(exist_ok=True)"
   ]
  },
  {
   "cell_type": "code",
   "execution_count": null,
   "metadata": {
    "ExecuteTime": {
     "end_time": "2020-02-03T14:34:39.541022Z",
     "start_time": "2020-02-03T14:34:29.654794Z"
    }
   },
   "outputs": [],
   "source": [
    "# load our training and test catalogs\n",
    "train1_cat = Catalog.from_file('https://drivendata-competition-building-segmentation.s3-us-west-1.amazonaws.com/train_tier_1/catalog.json')\n",
    "train2_cat = Catalog.from_file('https://drivendata-competition-building-segmentation.s3-us-west-1.amazonaws.com/train_tier_2/catalog.json')\n",
    "test_cat = Catalog.from_file('https://drivendata-competition-building-segmentation.s3-us-west-1.amazonaws.com/test/catalog.json')\n",
    "cols = {cols.id:cols for cols in train1_cat.get_children()}"
   ]
  },
  {
   "cell_type": "code",
   "execution_count": null,
   "metadata": {
    "ExecuteTime": {
     "end_time": "2020-02-03T14:36:26.156454Z",
     "start_time": "2020-02-03T14:36:26.152913Z"
    }
   },
   "outputs": [],
   "source": [
    "list(cols['acc'].get_all_items())"
   ]
  },
  {
   "cell_type": "code",
   "execution_count": null,
   "metadata": {
    "ExecuteTime": {
     "end_time": "2020-02-03T14:37:02.489375Z",
     "start_time": "2020-02-03T14:36:46.205782Z"
    }
   },
   "outputs": [],
   "source": [
    "# Get a list of the possible areas ('scenes) and ids\n",
    "areas = []\n",
    "for c in cols:\n",
    "    itms = [x for x in cols[c].get_all_items()]\n",
    "    for i, id in enumerate(itms):\n",
    "        if i % 2 == 0 and i+1 < len(itms):\n",
    "            areas.append((c, itms[i].id, itms[i+1].id))\n",
    "print(areas)"
   ]
  },
  {
   "cell_type": "code",
   "execution_count": null,
   "metadata": {
    "ExecuteTime": {
     "end_time": "2020-02-03T14:51:39.323211Z",
     "start_time": "2020-02-03T14:51:39.320095Z"
    }
   },
   "outputs": [],
   "source": [
    "for i in cols['acc'].get_all_items():\n",
    "    print(i.id)"
   ]
  },
  {
   "cell_type": "code",
   "execution_count": null,
   "metadata": {
    "ExecuteTime": {
     "end_time": "2020-02-03T14:52:41.125806Z",
     "start_time": "2020-02-03T14:52:03.959002Z"
    }
   },
   "outputs": [],
   "source": [
    "# for all items within acc col, either load and display label geojson with geopandas or raster metadata with rasterio\n",
    "\n",
    "for i in cols['acc'].get_all_items():\n",
    "    print(i.id, '\\n----------------------------')\n",
    "    pprint(i.properties)\n",
    "    if 'label' in i.id:\n",
    "\n",
    "        gdf = gpd.read_file(\n",
    "            i.make_asset_hrefs_absolute().assets['labels'].href)\n",
    "        gdf.plot()\n",
    "        plt.show()\n",
    "    else:\n",
    "        print('raster metadata:')\n",
    "        pprint(rasterio.open(\n",
    "            i.make_asset_hrefs_absolute().assets['image'].href).meta)\n",
    "    print('\\n----------------------------')"
   ]
  },
  {
   "cell_type": "code",
   "execution_count": null,
   "metadata": {
    "ExecuteTime": {
     "end_time": "2020-02-03T14:55:46.498113Z",
     "start_time": "2020-02-03T14:55:46.492666Z"
    }
   },
   "outputs": [],
   "source": [
    "# open one image item\n",
    "SCENE_ID = 'ca041a'\n",
    "\n",
    "one_item = cols['acc'].get_item(id=SCENE_ID)\n",
    "one_item.to_dict()"
   ]
  },
  {
   "cell_type": "code",
   "execution_count": null,
   "metadata": {
    "ExecuteTime": {
     "end_time": "2020-02-03T14:55:57.691774Z",
     "start_time": "2020-02-03T14:55:55.671380Z"
    }
   },
   "outputs": [],
   "source": [
    "# load raster for this item\n",
    "rst = rasterio.open(one_item.assets['image'].href)\n",
    "rst.meta"
   ]
  },
  {
   "cell_type": "code",
   "execution_count": null,
   "metadata": {
    "ExecuteTime": {
     "end_time": "2020-02-03T14:56:13.867807Z",
     "start_time": "2020-02-03T14:56:13.863875Z"
    }
   },
   "outputs": [],
   "source": [
    "# check raster resolution\n",
    "rst.res"
   ]
  },
  {
   "cell_type": "code",
   "execution_count": null,
   "metadata": {
    "ExecuteTime": {
     "end_time": "2020-02-03T14:58:23.232587Z",
     "start_time": "2020-02-03T14:58:22.810539Z"
    }
   },
   "outputs": [],
   "source": [
    "# make a windowed read of this raster and reshape into a displayable 4-d array (RGB+alpha channel)\n",
    "# more on windowed reads with rasterio: https://rasterio.readthedocs.io/en/stable/topics/windowed-rw.html#windows\n",
    "\n",
    "win_sz = 1024\n",
    "\n",
    "window = Window(rst.meta['width']//2,rst.meta['height']//2,win_sz,win_sz) # 1024x1024 window starting at center of raster\n",
    "win_arr = rst.read(window=window)\n",
    "win_arr = np.moveaxis(win_arr,0,2)\n",
    "plt.figure(figsize=(10,10))\n",
    "plt.imshow(win_arr)"
   ]
  },
  {
   "cell_type": "code",
   "execution_count": null,
   "metadata": {},
   "outputs": [],
   "source": [
    "DATA_PATH = \"/home/zakirov/datasets/opencities/train_tier_1/\""
   ]
  }
 ],
 "metadata": {
  "kernelspec": {
   "display_name": "Python 3",
   "language": "python",
   "name": "python3"
  },
  "language_info": {
   "codemirror_mode": {
    "name": "ipython",
    "version": 3
   },
   "file_extension": ".py",
   "mimetype": "text/x-python",
   "name": "python",
   "nbconvert_exporter": "python",
   "pygments_lexer": "ipython3",
   "version": "3.7.4"
  },
  "varInspector": {
   "cols": {
    "lenName": 16,
    "lenType": 16,
    "lenVar": 40
   },
   "kernels_config": {
    "python": {
     "delete_cmd_postfix": "",
     "delete_cmd_prefix": "del ",
     "library": "var_list.py",
     "varRefreshCmd": "print(var_dic_list())"
    },
    "r": {
     "delete_cmd_postfix": ") ",
     "delete_cmd_prefix": "rm(",
     "library": "var_list.r",
     "varRefreshCmd": "cat(var_dic_list()) "
    }
   },
   "types_to_exclude": [
    "module",
    "function",
    "builtin_function_or_method",
    "instance",
    "_Feature"
   ],
   "window_display": false
  }
 },
 "nbformat": 4,
 "nbformat_minor": 2
}
