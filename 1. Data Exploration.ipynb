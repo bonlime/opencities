{
 "cells": [
  {
   "cell_type": "code",
   "execution_count": 1,
   "metadata": {
    "ExecuteTime": {
     "end_time": "2020-02-04T10:12:15.998357Z",
     "start_time": "2020-02-04T10:12:15.996190Z"
    }
   },
   "outputs": [],
   "source": [
    "# !add-apt-repository ppa:ubuntugis/ubuntugis-unstable -y\n",
    "# !apt-get update\n",
    "# !apt-get install python-numpy gdal-bin libgdal-dev python3-rtree\n",
    "\n",
    "# !pip install rasterio\n",
    "# !pip install geopandas\n",
    "# !pip install descartes\n",
    "# !pip install solaris\n",
    "# !pip install rio-tiler\n",
    "# !pip install pystac"
   ]
  },
  {
   "cell_type": "code",
   "execution_count": 1,
   "metadata": {
    "ExecuteTime": {
     "end_time": "2020-02-04T10:22:00.843554Z",
     "start_time": "2020-02-04T10:22:00.836091Z"
    }
   },
   "outputs": [
    {
     "data": {
      "text/html": [
       "<style>.container {width:100% !important;}</style>"
      ],
      "text/plain": [
       "<IPython.core.display.HTML object>"
      ]
     },
     "metadata": {},
     "output_type": "display_data"
    }
   ],
   "source": [
    "from IPython.core.display import display, HTML\n",
    "display(HTML(\"<style>.container {width:100% !important;}</style>\"))"
   ]
  },
  {
   "cell_type": "code",
   "execution_count": 4,
   "metadata": {
    "ExecuteTime": {
     "end_time": "2020-02-04T10:22:03.417252Z",
     "start_time": "2020-02-04T10:22:03.413864Z"
    }
   },
   "outputs": [],
   "source": [
    "# Imports\n",
    "from matplotlib import pyplot as plt\n",
    "import numpy as np\n",
    "import pandas as pd\n",
    "from pprint import pprint\n",
    "import solaris as sol\n",
    "from pathlib import Path\n",
    "import rasterio\n",
    "from rasterio.windows import Window\n",
    "import geopandas as gpd\n",
    "from pystac import (Catalog, CatalogType, Item, Asset, LabelItem, Collection)\n",
    "from rasterio.transform import from_bounds\n",
    "from shapely.geometry import Polygon\n",
    "from shapely.ops import cascaded_union\n",
    "from rio_tiler import main as rt_main\n",
    "import skimage\n",
    "from tqdm import tqdm\n",
    "import os\n",
    "# os.environ[\"CURL_CA_BUNDLE\"] = \"/etc/ssl/certs/ca-certificates.crt\"\n",
    "\n",
    "# # We have to add this wrkaround for stackio:\n",
    "# # (https://pystac.readthedocs.io/en/latest/concepts.html#using-stac-io)\n",
    "# from urllib.parse import urlparse\n",
    "# import requests\n",
    "# from pystac import STAC_IO\n",
    "# def my_read_method(uri):\n",
    "#     parsed = urlparse(uri)\n",
    "#     if parsed.scheme.startswith('http'):\n",
    "#         return requests.get(uri).text\n",
    "#     else:\n",
    "#         return STAC_IO.default_read_text_method(uri)\n",
    "# STAC_IO.read_text_method = my_read_method"
   ]
  },
  {
   "cell_type": "code",
   "execution_count": 5,
   "metadata": {
    "ExecuteTime": {
     "end_time": "2020-02-04T10:22:03.777516Z",
     "start_time": "2020-02-04T10:22:03.775531Z"
    }
   },
   "outputs": [],
   "source": [
    "from src_em.tiff_slicer import geojson_to_squares\n",
    "from src_em.tiff_slicer import cleanup_invalid_geoms"
   ]
  },
  {
   "cell_type": "code",
   "execution_count": 6,
   "metadata": {
    "ExecuteTime": {
     "end_time": "2020-02-04T10:22:04.348626Z",
     "start_time": "2020-02-04T10:22:04.346720Z"
    }
   },
   "outputs": [],
   "source": [
    "TIFF_PATH = \"/home/zakirov/datasets/opencities/train_tier_1/acc/d41d81/d41d81.tif\"\n",
    "GEOJSON_PATH = \"/home/zakirov/datasets/opencities/train_tier_1/acc/d41d81-labels/d41d81.geojson\""
   ]
  },
  {
   "cell_type": "code",
   "execution_count": 7,
   "metadata": {
    "ExecuteTime": {
     "end_time": "2020-02-04T10:22:06.068561Z",
     "start_time": "2020-02-04T10:22:04.694767Z"
    }
   },
   "outputs": [],
   "source": [
    "label_df = gpd.read_file(GEOJSON_PATH)\n",
    "label_df = label_df[label_df['geometry'].isna() != True] # remove empty rows"
   ]
  },
  {
   "cell_type": "code",
   "execution_count": 8,
   "metadata": {
    "ExecuteTime": {
     "end_time": "2020-02-04T10:22:06.072397Z",
     "start_time": "2020-02-04T10:22:06.070332Z"
    }
   },
   "outputs": [],
   "source": [
    "# label_df.plot(figsize=(10,10));"
   ]
  },
  {
   "cell_type": "code",
   "execution_count": 9,
   "metadata": {
    "ExecuteTime": {
     "end_time": "2020-02-04T10:22:06.080654Z",
     "start_time": "2020-02-04T10:22:06.073586Z"
    }
   },
   "outputs": [],
   "source": [
    "ZOOM_LEVEL=19\n",
    "TILE_SIZE=512"
   ]
  },
  {
   "cell_type": "code",
   "execution_count": 10,
   "metadata": {
    "ExecuteTime": {
     "end_time": "2020-02-04T10:22:06.086542Z",
     "start_time": "2020-02-04T10:22:06.081744Z"
    }
   },
   "outputs": [],
   "source": [
    "# !cat $GEOJSON_PATH | supermercado burn {ZOOM_LEVEL} | mercantile shapes | fio collect > trn_aoi_z{ZOOM_LEVEL}tiles.geojson"
   ]
  },
  {
   "cell_type": "code",
   "execution_count": 11,
   "metadata": {
    "ExecuteTime": {
     "end_time": "2020-02-04T10:22:07.461007Z",
     "start_time": "2020-02-04T10:22:06.221295Z"
    }
   },
   "outputs": [],
   "source": [
    "tiles_gdf = geojson_to_squares(GEOJSON_PATH, ZOOM_LEVEL, val_percent=0.15)"
   ]
  },
  {
   "cell_type": "code",
   "execution_count": 12,
   "metadata": {
    "ExecuteTime": {
     "end_time": "2020-02-04T10:22:07.479453Z",
     "start_time": "2020-02-04T10:22:07.462756Z"
    }
   },
   "outputs": [
    {
     "data": {
      "text/html": [
       "<div>\n",
       "<style scoped>\n",
       "    .dataframe tbody tr th:only-of-type {\n",
       "        vertical-align: middle;\n",
       "    }\n",
       "\n",
       "    .dataframe tbody tr th {\n",
       "        vertical-align: top;\n",
       "    }\n",
       "\n",
       "    .dataframe thead th {\n",
       "        text-align: right;\n",
       "    }\n",
       "</style>\n",
       "<table border=\"1\" class=\"dataframe\">\n",
       "  <thead>\n",
       "    <tr style=\"text-align: right;\">\n",
       "      <th></th>\n",
       "      <th>id</th>\n",
       "      <th>title</th>\n",
       "      <th>geometry</th>\n",
       "      <th>xyz</th>\n",
       "      <th>dataset</th>\n",
       "    </tr>\n",
       "  </thead>\n",
       "  <tbody>\n",
       "    <tr>\n",
       "      <th>0</th>\n",
       "      <td>(261867, 253985, 19)</td>\n",
       "      <td>XYZ tile (261867, 253985, 19)</td>\n",
       "      <td>POLYGON ((-0.19020 5.59275, -0.19020 5.59343, ...</td>\n",
       "      <td>[261867, 253985, 19]</td>\n",
       "      <td>val</td>\n",
       "    </tr>\n",
       "  </tbody>\n",
       "</table>\n",
       "</div>"
      ],
      "text/plain": [
       "                     id                          title  \\\n",
       "0  (261867, 253985, 19)  XYZ tile (261867, 253985, 19)   \n",
       "\n",
       "                                            geometry                   xyz  \\\n",
       "0  POLYGON ((-0.19020 5.59275, -0.19020 5.59343, ...  [261867, 253985, 19]   \n",
       "\n",
       "  dataset  \n",
       "0     val  "
      ]
     },
     "execution_count": 12,
     "metadata": {},
     "output_type": "execute_result"
    }
   ],
   "source": [
    "tiles_gdf.head(1)"
   ]
  },
  {
   "cell_type": "code",
   "execution_count": 15,
   "metadata": {
    "ExecuteTime": {
     "end_time": "2020-02-04T10:22:28.185256Z",
     "start_time": "2020-02-04T10:22:28.180140Z"
    }
   },
   "outputs": [
    {
     "data": {
      "text/plain": [
       "train    341\n",
       "val       66\n",
       "Name: dataset, dtype: int64"
      ]
     },
     "execution_count": 15,
     "metadata": {},
     "output_type": "execute_result"
    }
   ],
   "source": [
    "tiles_gdf.dataset.value_counts()"
   ]
  },
  {
   "cell_type": "code",
   "execution_count": 68,
   "metadata": {
    "ExecuteTime": {
     "end_time": "2020-02-04T10:14:24.542611Z",
     "start_time": "2020-02-04T10:14:24.267099Z"
    },
    "collapsed": true
   },
   "outputs": [
    {
     "data": {
      "image/png": "[encoded data removed]",
      "text/plain": [
       "<Figure size 720x720 with 1 Axes>"
      ]
     },
     "metadata": {
      "needs_background": "light"
     },
     "output_type": "display_data"
    }
   ],
   "source": [
    "fig, ax = plt.subplots(figsize=(10, 10))\n",
    "tiles_gdf[tiles_gdf.train].plot(ax=ax, figsize=(10,10), color='grey', alpha=0.5, edgecolor='red');\n",
    "tiles_gdf[tiles_gdf.train == False].plot(ax=ax, figsize=(10,10), color='grey', alpha=0.5, edgecolor='blue');"
   ]
  },
  {
   "cell_type": "code",
   "execution_count": 69,
   "metadata": {
    "ExecuteTime": {
     "end_time": "2020-02-04T10:14:24.961230Z",
     "start_time": "2020-02-04T10:14:24.958777Z"
    }
   },
   "outputs": [],
   "source": [
    "from rio_tiler import main as rt_main\n",
    "\n",
    "# import mercantile\n",
    "from rasterio.transform import from_bounds\n",
    "from shapely.geometry import Polygon\n",
    "from shapely.ops import cascaded_union"
   ]
  },
  {
   "cell_type": "code",
   "execution_count": null,
   "metadata": {},
   "outputs": [],
   "source": [
    "tqdm()"
   ]
  },
  {
   "cell_type": "code",
   "execution_count": 70,
   "metadata": {
    "ExecuteTime": {
     "end_time": "2020-02-04T10:14:27.316524Z",
     "start_time": "2020-02-04T10:14:27.310448Z"
    }
   },
   "outputs": [],
   "source": [
    "all_polys = label_df.geometry\n",
    "# all_polys.head(3)"
   ]
  },
  {
   "cell_type": "code",
   "execution_count": 71,
   "metadata": {
    "ExecuteTime": {
     "end_time": "2020-02-04T10:14:47.314851Z",
     "start_time": "2020-02-04T10:14:27.487103Z"
    }
   },
   "outputs": [],
   "source": [
    "all_polys = cleanup_invalid_geoms(all_polys)"
   ]
  },
  {
   "cell_type": "code",
   "execution_count": 72,
   "metadata": {
    "ExecuteTime": {
     "end_time": "2020-02-04T10:14:47.412812Z",
     "start_time": "2020-02-04T10:14:47.316429Z"
    }
   },
   "outputs": [],
   "source": [
    "idx = np.random.randint(0, len(tiles_gdf))\n",
    "# idx=412\n",
    "tiles_gdf.iloc[idx]['xyz']\n",
    "tile, mask = rt_main.tile(TIFF_PATH, *tiles_gdf.iloc[idx]['xyz'], tilesize=TILE_SIZE)\n",
    "# plt.figure(figsize=(7, 7))\n",
    "# plt.imshow(np.moveaxis(tile,0,2));"
   ]
  },
  {
   "cell_type": "code",
   "execution_count": 73,
   "metadata": {
    "ExecuteTime": {
     "end_time": "2020-02-04T10:14:47.416538Z",
     "start_time": "2020-02-04T10:14:47.414344Z"
    }
   },
   "outputs": [],
   "source": [
    "# get the same tile polygon as our tile image above\n",
    "tile_poly = tiles_gdf.iloc[idx]['geometry']\n",
    "# print(tile_poly.bounds)\n",
    "# tile_poly"
   ]
  },
  {
   "cell_type": "code",
   "execution_count": 74,
   "metadata": {
    "ExecuteTime": {
     "end_time": "2020-02-04T10:14:47.421168Z",
     "start_time": "2020-02-04T10:14:47.417703Z"
    }
   },
   "outputs": [],
   "source": [
    "# get affine transformation matrix for this tile using rasterio.transform.from_bounds: https://rasterio.readthedocs.io/en/stable/api/rasterio.transform.html#rasterio.transform.from_bounds\n",
    "tfm = from_bounds(*tile_poly.bounds, TILE_SIZE, TILE_SIZE) \n",
    "# tfm"
   ]
  },
  {
   "cell_type": "code",
   "execution_count": 75,
   "metadata": {
    "ExecuteTime": {
     "end_time": "2020-02-04T10:14:47.467271Z",
     "start_time": "2020-02-04T10:14:47.422118Z"
    }
   },
   "outputs": [],
   "source": [
    "# crop znz001 geometries to what overlaps our tile polygon bounds\n",
    "cropped_polys = [poly for poly in all_polys if poly.intersects(tile_poly)]\n",
    "cropped_polys_gdf = gpd.GeoDataFrame(geometry=cropped_polys, crs=4326)\n",
    "# cropped_polys_gdf.plot()"
   ]
  },
  {
   "cell_type": "code",
   "execution_count": 76,
   "metadata": {
    "ExecuteTime": {
     "end_time": "2020-02-04T10:14:47.758811Z",
     "start_time": "2020-02-04T10:14:47.468408Z"
    }
   },
   "outputs": [],
   "source": [
    "# burn a footprint/boundary/contact 3-channel mask with solaris: https://solaris.readthedocs.io/en/latest/tutorials/notebooks/api_masks_tutorial.html\n",
    "# we're only using it \n",
    "fbc_mask = sol.vector.mask.df_to_px_mask(df=cropped_polys_gdf,\n",
    "                                         channels=['footprint', 'boundary', 'contact'],\n",
    "                                         affine_obj=tfm, shape=(TILE_SIZE,TILE_SIZE),\n",
    "                                         boundary_width=7, boundary_type='inner', contact_spacing=5, meters=True)"
   ]
  },
  {
   "cell_type": "code",
   "execution_count": 17,
   "metadata": {
    "ExecuteTime": {
     "end_time": "2020-02-04T11:01:37.471006Z",
     "start_time": "2020-02-04T11:01:37.469131Z"
    }
   },
   "outputs": [],
   "source": [
    "# fig, (ax1, ax2) = plt.subplots(1,2,figsize=(10, 5))\n",
    "# ax1.imshow(np.moveaxis(tile,0,2))\n",
    "# ax2.imshow(fbc_mask)"
   ]
  },
  {
   "cell_type": "code",
   "execution_count": 93,
   "metadata": {
    "ExecuteTime": {
     "end_time": "2020-02-04T10:10:08.335661Z",
     "start_time": "2020-02-04T10:10:08.333576Z"
    }
   },
   "outputs": [],
   "source": [
    "# fig, (ax1, ax2, ax3) = plt.subplots(1,3,figsize=(10, 5))\n",
    "# ax1.imshow(fbc_mask[:,:,0])\n",
    "# ax2.imshow(fbc_mask[:,:,1])\n",
    "# ax3.imshow(fbc_mask[:,:,2])"
   ]
  }
 ],
 "metadata": {
  "kernelspec": {
   "display_name": "Python 3",
   "language": "python",
   "name": "python3"
  },
  "language_info": {
   "codemirror_mode": {
    "name": "ipython",
    "version": 3
   },
   "file_extension": ".py",
   "mimetype": "text/x-python",
   "name": "python",
   "nbconvert_exporter": "python",
   "pygments_lexer": "ipython3",
   "version": "3.6.9"
  },
  "varInspector": {
   "cols": {
    "lenName": 16,
    "lenType": 16,
    "lenVar": 40
   },
   "kernels_config": {
    "python": {
     "delete_cmd_postfix": "",
     "delete_cmd_prefix": "del ",
     "library": "var_list.py",
     "varRefreshCmd": "print(var_dic_list())"
    },
    "r": {
     "delete_cmd_postfix": ") ",
     "delete_cmd_prefix": "rm(",
     "library": "var_list.r",
     "varRefreshCmd": "cat(var_dic_list()) "
    }
   },
   "types_to_exclude": [
    "module",
    "function",
    "builtin_function_or_method",
    "instance",
    "_Feature"
   ],
   "window_display": false
  }
 },
 "nbformat": 4,
 "nbformat_minor": 2
}
